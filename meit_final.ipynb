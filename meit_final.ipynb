{
 "cells": [
  {
   "cell_type": "code",
   "execution_count": 1,
   "id": "b0a9fc1a",
   "metadata": {},
   "outputs": [],
   "source": [
    "import cv2\n",
    "import pandas as pd\n",
    "import numpy as np"
   ]
  },
  {
   "cell_type": "code",
   "execution_count": 2,
   "id": "822fc32e",
   "metadata": {},
   "outputs": [],
   "source": [
    "import numpy as np\n",
    "import matplotlib.pyplot as plt\n",
    "import torch\n",
    "import torch.nn as nn\n",
    "from torchvision.transforms import transforms\n",
    "from torch.utils.data import DataLoader\n",
    "import torch.optim as optim"
   ]
  },
  {
   "cell_type": "code",
   "execution_count": 3,
   "id": "59139dd5",
   "metadata": {},
   "outputs": [],
   "source": [
    "import os\n",
    "from PIL import Image\n",
    "import numpy as np\n",
    "from IPython.display import Image\n",
    "import torch\n",
    "import PIL\n",
    "\n",
    "data_dir = 'img' #내드라이브에 사진이 저장되어 있는 경로\n",
    "\n",
    "x_data = []\n",
    "y_data = []\n",
    "files = []\n",
    "dirs = os.listdir(data_dir) #dirs : 'clean.14.jpg'\n",
    "\n",
    "for dir in dirs:\n",
    "  file = os.path.join(data_dir, dir) #files : /content/drive/MyDrive/train/clean.14.jpg 전체경로\n",
    "  files.append(file)\n",
    "\n",
    "import torchvision.transforms as transforms\n",
    "tf = transforms.ToTensor()\n",
    "for file in files:\n",
    "   image = PIL.Image.open(file)\n",
    "   resize_image = image.resize((64,64))\n",
    "   final_image = tf(resize_image) # 해주면 image의 shape는 (3,64,64) 이된다\n",
    "   final_image = final_image.tolist()\n",
    "   x_data.append(final_image)\n",
    "\n",
    "x_data = torch.tensor(x_data)\n",
    "\n",
    "for dir in dirs:\n",
    "  if dir[:5] == 'clean':\n",
    "    output = 0.0 #clean: 0\n",
    "  else:\n",
    "    output = 1.0  #pollution:1\n",
    "  \n",
    "  y_data.append(output)\n",
    "\n",
    "y_data = torch.tensor(y_data)"
   ]
  },
  {
   "cell_type": "code",
   "execution_count": 4,
   "id": "476fb840",
   "metadata": {},
   "outputs": [
    {
     "data": {
      "text/plain": [
       "torch.Size([400, 3, 64, 64])"
      ]
     },
     "execution_count": 4,
     "metadata": {},
     "output_type": "execute_result"
    }
   ],
   "source": [
    "x_data.shape"
   ]
  },
  {
   "cell_type": "code",
   "execution_count": 5,
   "id": "37b39842",
   "metadata": {},
   "outputs": [
    {
     "data": {
      "text/plain": [
       "torch.Size([400])"
      ]
     },
     "execution_count": 5,
     "metadata": {},
     "output_type": "execute_result"
    }
   ],
   "source": [
    "y_data.shape"
   ]
  },
  {
   "cell_type": "markdown",
   "id": "c26ea1a4",
   "metadata": {},
   "source": [
    "train,valid 분류"
   ]
  },
  {
   "cell_type": "code",
   "execution_count": 6,
   "id": "03e12a0f",
   "metadata": {},
   "outputs": [],
   "source": [
    "from sklearn.model_selection import train_test_split\n",
    "x_train, x_test, y_train, y_test = train_test_split(x_data, y_data, test_size=0.2, random_state=42)"
   ]
  },
  {
   "cell_type": "markdown",
   "id": "f604d502",
   "metadata": {},
   "source": [
    "# 모델 정의"
   ]
  },
  {
   "cell_type": "code",
   "execution_count": 7,
   "id": "26d3a929",
   "metadata": {},
   "outputs": [],
   "source": [
    "import torch.nn as nn\n",
    "import torch.nn.functional as F\n",
    "\n",
    "class Net(nn.Module):\n",
    "    def __init__(self):\n",
    "        super(Net, self).__init__()\n",
    "\n",
    "        self.conv1 = nn.Conv2d(3, 16, kernel_size=3, stride=1)\n",
    "        self.conv2 = nn.Conv2d(16, 32, kernel_size=3, stride=1)\n",
    "        self.conv3 = nn.Conv2d(32, 64, kernel_size=3, stride=1)\n",
    "        self.fc1 = nn.Linear(2304, 512) \n",
    "        self.fc2 = nn.Linear(512, 1)\n",
    "\n",
    "    def forward(self, x):\n",
    "        x = F.max_pool2d(F.relu(self.conv1(x)),2)\n",
    "        x = F.max_pool2d(F.relu(self.conv2(x)), 2)\n",
    "        x = F.max_pool2d(F.relu(self.conv3(x)), 2)\n",
    "        x = x.reshape(-1,2304)\n",
    "        x = F.relu(self.fc1(x))\n",
    "        x = self.fc2(x)\n",
    "\n",
    "        return x"
   ]
  },
  {
   "cell_type": "code",
   "execution_count": 8,
   "id": "0fb20044",
   "metadata": {},
   "outputs": [],
   "source": [
    "model = Net()\n",
    "\n",
    "criterion = nn.BCEWithLogitsLoss()\n",
    "optimizer = optim.Adam(model.parameters(), lr=0.0001)\n",
    "\n",
    "epochs = 30"
   ]
  },
  {
   "cell_type": "code",
   "execution_count": 9,
   "id": "d484d58a",
   "metadata": {},
   "outputs": [],
   "source": [
    "def accuracy(y_pred, y_test):\n",
    "    y_pred_tag = torch.round(torch.sigmoid(y_pred))\n",
    "\n",
    "    correct_results_sum = (y_pred_tag == y_test).sum().float()\n",
    "    acc = correct_results_sum / y_test.shape[0]\n",
    "    acc = torch.round(acc * 100)\n",
    "\n",
    "    return acc"
   ]
  },
  {
   "cell_type": "markdown",
   "id": "ad3a5222",
   "metadata": {},
   "source": [
    "### model 학습"
   ]
  },
  {
   "cell_type": "code",
   "execution_count": 10,
   "id": "e4068f21",
   "metadata": {},
   "outputs": [
    {
     "name": "stderr",
     "output_type": "stream",
     "text": [
      "<ipython-input-10-29c3664ee992>:15: UserWarning: To copy construct from a tensor, it is recommended to use sourceTensor.clone().detach() or sourceTensor.clone().detach().requires_grad_(True), rather than torch.tensor(sourceTensor).\n",
      "  k = torch.tensor(labels[i])\n"
     ]
    },
    {
     "name": "stdout",
     "output_type": "stream",
     "text": [
      "epoch: [1/30] train_loss: 0.67433 train_acc: 57.50000\n",
      "epoch: [2/30] train_loss: 0.37589 train_acc: 84.58334\n",
      "epoch: [3/30] train_loss: 0.26186 train_acc: 90.00000\n",
      "epoch: [4/30] train_loss: 0.23715 train_acc: 91.25000\n",
      "epoch: [5/30] train_loss: 0.22544 train_acc: 90.83334\n",
      "epoch: [6/30] train_loss: 0.21260 train_acc: 91.66666\n",
      "epoch: [7/30] train_loss: 0.20086 train_acc: 92.50000\n",
      "epoch: [8/30] train_loss: 0.19047 train_acc: 92.91666\n",
      "epoch: [9/30] train_loss: 0.18103 train_acc: 93.75000\n",
      "epoch: [10/30] train_loss: 0.17284 train_acc: 93.75000\n",
      "epoch: [11/30] train_loss: 0.16558 train_acc: 94.16666\n",
      "epoch: [12/30] train_loss: 0.15863 train_acc: 95.00000\n",
      "epoch: [13/30] train_loss: 0.15232 train_acc: 95.41666\n",
      "epoch: [14/30] train_loss: 0.14664 train_acc: 95.83334\n",
      "epoch: [15/30] train_loss: 0.14186 train_acc: 95.83334\n",
      "epoch: [16/30] train_loss: 0.13660 train_acc: 96.25000\n",
      "epoch: [17/30] train_loss: 0.12912 train_acc: 95.83334\n",
      "epoch: [18/30] train_loss: 0.12261 train_acc: 96.25000\n",
      "epoch: [19/30] train_loss: 0.11594 train_acc: 96.66666\n",
      "epoch: [20/30] train_loss: 0.10958 train_acc: 96.66666\n",
      "epoch: [21/30] train_loss: 0.10363 train_acc: 97.50000\n",
      "epoch: [22/30] train_loss: 0.09799 train_acc: 97.91666\n",
      "epoch: [23/30] train_loss: 0.09277 train_acc: 97.91666\n",
      "epoch: [24/30] train_loss: 0.08809 train_acc: 97.50000\n",
      "epoch: [25/30] train_loss: 0.08235 train_acc: 97.91666\n",
      "epoch: [26/30] train_loss: 0.07737 train_acc: 97.91666\n",
      "epoch: [27/30] train_loss: 0.07262 train_acc: 98.75000\n",
      "epoch: [28/30] train_loss: 0.06916 train_acc: 98.75000\n",
      "epoch: [29/30] train_loss: 0.06651 train_acc: 98.75000\n",
      "epoch: [30/30] train_loss: 0.06422 train_acc: 98.33334\n",
      "learning finish\n"
     ]
    }
   ],
   "source": [
    "\n",
    "for epoch in range(epochs):\n",
    "    running_loss = 0.0\n",
    "    running_acc = 0.0\n",
    "\n",
    "    model.train()\n",
    "\n",
    "    for i,data in enumerate(x_train, 0):\n",
    "        optimizer.zero_grad()\n",
    "        data = data\n",
    "        labels = y_train\n",
    "\n",
    "        outputs = model(data)\n",
    "\n",
    "        #labels = labels.tolist()\n",
    "        k = torch.tensor(labels[i])\n",
    "        k = k.view(1,-1)\n",
    "        #labels = labels.view(len(labels),-1)\n",
    "        k = k\n",
    "        #print(k.shape)\n",
    "        #print(outputs.shape)\n",
    "        loss = criterion(outputs, k)\n",
    "        loss.backward()\n",
    "        optimizer.step()\n",
    "\n",
    "        running_loss += loss.item()\n",
    "        running_acc += accuracy(outputs, k)\n",
    "\n",
    "        if i % 240 == 239:\n",
    "            print('epoch: [%d/%d] train_loss: %.5f train_acc: %.5f' % (\n",
    "                epoch + 1, epochs, running_loss / 240, running_acc / 240))\n",
    "            running_loss = 0.0\n",
    "\n",
    "print(\"learning finish\")"
   ]
  },
  {
   "cell_type": "markdown",
   "id": "6af29e6c",
   "metadata": {},
   "source": [
    "### test 확인"
   ]
  },
  {
   "cell_type": "code",
   "execution_count": 11,
   "id": "20bb4634",
   "metadata": {},
   "outputs": [
    {
     "name": "stdout",
     "output_type": "stream",
     "text": [
      "avarage acc: 89.87342 %\n",
      "test finish!\n"
     ]
    },
    {
     "name": "stderr",
     "output_type": "stream",
     "text": [
      "<ipython-input-11-2ef9e872ed63>:10: UserWarning: To copy construct from a tensor, it is recommended to use sourceTensor.clone().detach() or sourceTensor.clone().detach().requires_grad_(True), rather than torch.tensor(sourceTensor).\n",
      "  k = torch.tensor(labels[i])\n"
     ]
    }
   ],
   "source": [
    "with torch.no_grad():\n",
    "    total_acc = 0.0\n",
    "    acc = 0.0\n",
    "    data = x_test\n",
    "    labels = y_test\n",
    "\n",
    "    for i,data in enumerate(x_test, 0):\n",
    "        data = data\n",
    "        labels = y_test\n",
    "        k = torch.tensor(labels[i])\n",
    "        k = k.view(1,-1)\n",
    "        outputs = model(data)\n",
    "        acc = accuracy(outputs, k)\n",
    "        total_acc += acc\n",
    "\n",
    "        count = i\n",
    "\n",
    "    print('avarage acc: %.5f' % (total_acc/count),'%')\n",
    "\n",
    "print('test finish!')"
   ]
  },
  {
   "cell_type": "markdown",
   "id": "16b7d125",
   "metadata": {},
   "source": [
    "### detect"
   ]
  },
  {
   "cell_type": "code",
   "execution_count": 12,
   "id": "be00b505",
   "metadata": {},
   "outputs": [],
   "source": [
    "import cv2\n",
    "import numpy as np\n",
    "import torch"
   ]
  },
  {
   "cell_type": "code",
   "execution_count": 13,
   "id": "76284979",
   "metadata": {},
   "outputs": [],
   "source": [
    "def predict(pred):\n",
    "  pred = pred\n",
    "  outputs = model(pred)\n",
    "  pred_tag = torch.round(torch.sigmoid(outputs))\n",
    "  return pred_tag"
   ]
  },
  {
   "cell_type": "code",
   "execution_count": 14,
   "id": "03ed13a4",
   "metadata": {},
   "outputs": [],
   "source": [
    "def predicts(pred):\n",
    "  pred = pred\n",
    "  outputs = model(pred)\n",
    "  pred_tag = torch.sigmoid(outputs)\n",
    "  return pred_tag"
   ]
  },
  {
   "cell_type": "markdown",
   "id": "5a51bd0f",
   "metadata": {},
   "source": [
    "# 파이어베이스"
   ]
  },
  {
   "cell_type": "code",
   "execution_count": 15,
   "id": "fbf02839",
   "metadata": {},
   "outputs": [],
   "source": [
    "from time import sleep\n",
    "import datetime\n",
    "import sys, os\n",
    "import requests\n",
    "import firebase_admin\n",
    "from firebase_admin import credentials\n",
    "from firebase_admin import storage\n",
    "from firebase_admin import db\n",
    "from uuid import uuid4\n",
    "\n",
    "cred = credentials.Certificate(\"cg24-8875b-firebase-adminsdk-89mhn-99633286a5.json\")\n",
    "# firebase_admin.initialize_app(cred, {\n",
    "#     'databaseURL':'https://cg24-8875b-default-rtdb.firebaseio.com/'  # database 주소 입력\n",
    "# })\n",
    "\n",
    "db_url= 'https://cg24-8875b-default-rtdb.firebaseio.com/'\n",
    "default_app = firebase_admin.initialize_app(cred, {'databaseURL':db_url,'storageBucket':f\"cg24-8875b.appspot.com\" })\n",
    "bucket = storage.bucket()"
   ]
  },
  {
   "cell_type": "code",
   "execution_count": 25,
   "id": "521f2c23",
   "metadata": {},
   "outputs": [
    {
     "name": "stdout",
     "output_type": "stream",
     "text": [
      "Requirement already satisfied: google-cloud-storage in c:\\users\\rhskr\\anaconda3\\lib\\site-packages (2.5.0)\n",
      "Requirement already satisfied: google-api-core!=2.0.*,!=2.1.*,!=2.2.*,!=2.3.0,<3.0.0dev,>=1.31.5 in c:\\users\\rhskr\\anaconda3\\lib\\site-packages (from google-cloud-storage) (2.8.2)\n",
      "Requirement already satisfied: requests<3.0.0dev,>=2.18.0 in c:\\users\\rhskr\\anaconda3\\lib\\site-packages (from google-cloud-storage) (2.25.1)\n",
      "Requirement already satisfied: google-cloud-core<3.0dev,>=2.3.0 in c:\\users\\rhskr\\anaconda3\\lib\\site-packages (from google-cloud-storage) (2.3.2)\n",
      "Requirement already satisfied: google-auth<3.0dev,>=1.25.0 in c:\\users\\rhskr\\anaconda3\\lib\\site-packages (from google-cloud-storage) (2.6.0)\n",
      "Requirement already satisfied: google-resumable-media>=2.3.2 in c:\\users\\rhskr\\anaconda3\\lib\\site-packages (from google-cloud-storage) (2.3.3)\n",
      "Requirement already satisfied: googleapis-common-protos<2.0dev,>=1.56.2 in c:\\users\\rhskr\\anaconda3\\lib\\site-packages (from google-api-core!=2.0.*,!=2.1.*,!=2.2.*,!=2.3.0,<3.0.0dev,>=1.31.5->google-cloud-storage) (1.56.4)\n",
      "Requirement already satisfied: protobuf<5.0.0dev,>=3.15.0 in c:\\users\\rhskr\\anaconda3\\lib\\site-packages (from google-api-core!=2.0.*,!=2.1.*,!=2.2.*,!=2.3.0,<3.0.0dev,>=1.31.5->google-cloud-storage) (3.19.4)\n",
      "Requirement already satisfied: cachetools<6.0,>=2.0.0 in c:\\users\\rhskr\\anaconda3\\lib\\site-packages (from google-auth<3.0dev,>=1.25.0->google-cloud-storage) (5.0.0)\n",
      "Requirement already satisfied: six>=1.9.0 in c:\\users\\rhskr\\anaconda3\\lib\\site-packages (from google-auth<3.0dev,>=1.25.0->google-cloud-storage) (1.15.0)\n",
      "Requirement already satisfied: rsa<5,>=3.1.4 in c:\\users\\rhskr\\anaconda3\\lib\\site-packages (from google-auth<3.0dev,>=1.25.0->google-cloud-storage) (4.8)\n",
      "Requirement already satisfied: pyasn1-modules>=0.2.1 in c:\\users\\rhskr\\anaconda3\\lib\\site-packages (from google-auth<3.0dev,>=1.25.0->google-cloud-storage) (0.2.8)\n",
      "Requirement already satisfied: google-crc32c<2.0dev,>=1.0 in c:\\users\\rhskr\\anaconda3\\lib\\site-packages (from google-resumable-media>=2.3.2->google-cloud-storage) (1.3.0)\n",
      "Requirement already satisfied: idna<3,>=2.5 in c:\\users\\rhskr\\anaconda3\\lib\\site-packages (from requests<3.0.0dev,>=2.18.0->google-cloud-storage) (2.10)\n",
      "Requirement already satisfied: chardet<5,>=3.0.2 in c:\\users\\rhskr\\anaconda3\\lib\\site-packages (from requests<3.0.0dev,>=2.18.0->google-cloud-storage) (4.0.0)\n",
      "Requirement already satisfied: urllib3<1.27,>=1.21.1 in c:\\users\\rhskr\\anaconda3\\lib\\site-packages (from requests<3.0.0dev,>=2.18.0->google-cloud-storage) (1.26.4)\n",
      "Requirement already satisfied: certifi>=2017.4.17 in c:\\users\\rhskr\\anaconda3\\lib\\site-packages (from requests<3.0.0dev,>=2.18.0->google-cloud-storage) (2020.12.5)\n",
      "Requirement already satisfied: pyasn1<0.5.0,>=0.4.6 in c:\\users\\rhskr\\anaconda3\\lib\\site-packages (from pyasn1-modules>=0.2.1->google-auth<3.0dev,>=1.25.0->google-cloud-storage) (0.4.8)\n"
     ]
    }
   ],
   "source": [
    "!pip install google-cloud-storage"
   ]
  },
  {
   "cell_type": "code",
   "execution_count": 1,
   "id": "0278bbdd",
   "metadata": {},
   "outputs": [
    {
     "name": "stdout",
     "output_type": "stream",
     "text": [
      "Note: you may need to restart the kernel to use updated packages.\n"
     ]
    },
    {
     "name": "stderr",
     "output_type": "stream",
     "text": [
      "ERROR: Could not find a version that satisfies the requirement service_account (from versions: none)\n",
      "ERROR: No matching distribution found for service_account\n"
     ]
    }
   ],
   "source": [
    "pip install service_account"
   ]
  },
  {
   "cell_type": "code",
   "execution_count": 16,
   "id": "ebc97b33",
   "metadata": {},
   "outputs": [],
   "source": [
    "from google.cloud import storage\n",
    "from google.oauth2 import service_account"
   ]
  },
  {
   "cell_type": "code",
   "execution_count": 17,
   "id": "dde88e13",
   "metadata": {},
   "outputs": [],
   "source": [
    "import datetime"
   ]
  },
  {
   "cell_type": "code",
   "execution_count": 20,
   "id": "1c436cd5",
   "metadata": {},
   "outputs": [
    {
     "name": "stdout",
     "output_type": "stream",
     "text": [
      "tensor([[1.]], grad_fn=<SigmoidBackward0>)\n",
      "tensor(100., grad_fn=<MulBackward0>)\n",
      "JmHqQfTeAZebqKI0UCPM0Ytk2Pk2\n",
      "index_num:  23\n",
      "tensor([[0.0582]], grad_fn=<SigmoidBackward0>)\n",
      "tensor(94.1800, grad_fn=<MulBackward0>)\n",
      "JmHqQfTeAZebqKI0UCPM0Ytk2Pk2\n",
      "index_num:  24\n"
     ]
    },
    {
     "ename": "KeyboardInterrupt",
     "evalue": "",
     "output_type": "error",
     "traceback": [
      "\u001b[1;31m---------------------------------------------------------------------------\u001b[0m",
      "\u001b[1;31mKeyboardInterrupt\u001b[0m                         Traceback (most recent call last)",
      "\u001b[1;32m<ipython-input-20-fb057445abd7>\u001b[0m in \u001b[0;36m<module>\u001b[1;34m\u001b[0m\n\u001b[0;32m      5\u001b[0m \u001b[1;33m\u001b[0m\u001b[0m\n\u001b[0;32m      6\u001b[0m     \u001b[1;31m#바코드 가지고 오는 코드\u001b[0m\u001b[1;33m\u001b[0m\u001b[1;33m\u001b[0m\u001b[1;33m\u001b[0m\u001b[0m\n\u001b[1;32m----> 7\u001b[1;33m     \u001b[0mrow\u001b[0m \u001b[1;33m=\u001b[0m \u001b[0mref1\u001b[0m\u001b[1;33m.\u001b[0m\u001b[0mget\u001b[0m\u001b[1;33m(\u001b[0m\u001b[1;33m)\u001b[0m\u001b[1;33m\u001b[0m\u001b[1;33m\u001b[0m\u001b[0m\n\u001b[0m\u001b[0;32m      8\u001b[0m     \u001b[1;31m#10이면 사진찍고 올린 상태임\u001b[0m\u001b[1;33m\u001b[0m\u001b[1;33m\u001b[0m\u001b[1;33m\u001b[0m\u001b[0m\n\u001b[0;32m      9\u001b[0m     \u001b[1;32mif\u001b[0m \u001b[1;33m(\u001b[0m\u001b[0mrow\u001b[0m \u001b[1;33m==\u001b[0m \u001b[1;34m\"10\"\u001b[0m\u001b[1;33m)\u001b[0m\u001b[1;33m:\u001b[0m\u001b[1;33m\u001b[0m\u001b[1;33m\u001b[0m\u001b[0m\n",
      "\u001b[1;32m~\\anaconda3\\lib\\site-packages\\firebase_admin\\db.py\u001b[0m in \u001b[0;36mget\u001b[1;34m(self, etag, shallow)\u001b[0m\n\u001b[0;32m    219\u001b[0m \u001b[1;33m\u001b[0m\u001b[0m\n\u001b[0;32m    220\u001b[0m         \u001b[0mparams\u001b[0m \u001b[1;33m=\u001b[0m \u001b[1;34m'shallow=true'\u001b[0m \u001b[1;32mif\u001b[0m \u001b[0mshallow\u001b[0m \u001b[1;32melse\u001b[0m \u001b[1;32mNone\u001b[0m\u001b[1;33m\u001b[0m\u001b[1;33m\u001b[0m\u001b[0m\n\u001b[1;32m--> 221\u001b[1;33m         \u001b[1;32mreturn\u001b[0m \u001b[0mself\u001b[0m\u001b[1;33m.\u001b[0m\u001b[0m_client\u001b[0m\u001b[1;33m.\u001b[0m\u001b[0mbody\u001b[0m\u001b[1;33m(\u001b[0m\u001b[1;34m'get'\u001b[0m\u001b[1;33m,\u001b[0m \u001b[0mself\u001b[0m\u001b[1;33m.\u001b[0m\u001b[0m_add_suffix\u001b[0m\u001b[1;33m(\u001b[0m\u001b[1;33m)\u001b[0m\u001b[1;33m,\u001b[0m \u001b[0mparams\u001b[0m\u001b[1;33m=\u001b[0m\u001b[0mparams\u001b[0m\u001b[1;33m)\u001b[0m\u001b[1;33m\u001b[0m\u001b[1;33m\u001b[0m\u001b[0m\n\u001b[0m\u001b[0;32m    222\u001b[0m \u001b[1;33m\u001b[0m\u001b[0m\n\u001b[0;32m    223\u001b[0m     \u001b[1;32mdef\u001b[0m \u001b[0mget_if_changed\u001b[0m\u001b[1;33m(\u001b[0m\u001b[0mself\u001b[0m\u001b[1;33m,\u001b[0m \u001b[0metag\u001b[0m\u001b[1;33m)\u001b[0m\u001b[1;33m:\u001b[0m\u001b[1;33m\u001b[0m\u001b[1;33m\u001b[0m\u001b[0m\n",
      "\u001b[1;32m~\\anaconda3\\lib\\site-packages\\firebase_admin\\_http_client.py\u001b[0m in \u001b[0;36mbody\u001b[1;34m(self, method, url, **kwargs)\u001b[0m\n\u001b[0;32m    129\u001b[0m \u001b[1;33m\u001b[0m\u001b[0m\n\u001b[0;32m    130\u001b[0m     \u001b[1;32mdef\u001b[0m \u001b[0mbody\u001b[0m\u001b[1;33m(\u001b[0m\u001b[0mself\u001b[0m\u001b[1;33m,\u001b[0m \u001b[0mmethod\u001b[0m\u001b[1;33m,\u001b[0m \u001b[0murl\u001b[0m\u001b[1;33m,\u001b[0m \u001b[1;33m**\u001b[0m\u001b[0mkwargs\u001b[0m\u001b[1;33m)\u001b[0m\u001b[1;33m:\u001b[0m\u001b[1;33m\u001b[0m\u001b[1;33m\u001b[0m\u001b[0m\n\u001b[1;32m--> 131\u001b[1;33m         \u001b[0mresp\u001b[0m \u001b[1;33m=\u001b[0m \u001b[0mself\u001b[0m\u001b[1;33m.\u001b[0m\u001b[0mrequest\u001b[0m\u001b[1;33m(\u001b[0m\u001b[0mmethod\u001b[0m\u001b[1;33m,\u001b[0m \u001b[0murl\u001b[0m\u001b[1;33m,\u001b[0m \u001b[1;33m**\u001b[0m\u001b[0mkwargs\u001b[0m\u001b[1;33m)\u001b[0m\u001b[1;33m\u001b[0m\u001b[1;33m\u001b[0m\u001b[0m\n\u001b[0m\u001b[0;32m    132\u001b[0m         \u001b[1;32mreturn\u001b[0m \u001b[0mself\u001b[0m\u001b[1;33m.\u001b[0m\u001b[0mparse_body\u001b[0m\u001b[1;33m(\u001b[0m\u001b[0mresp\u001b[0m\u001b[1;33m)\u001b[0m\u001b[1;33m\u001b[0m\u001b[1;33m\u001b[0m\u001b[0m\n\u001b[0;32m    133\u001b[0m \u001b[1;33m\u001b[0m\u001b[0m\n",
      "\u001b[1;32m~\\anaconda3\\lib\\site-packages\\firebase_admin\\db.py\u001b[0m in \u001b[0;36mrequest\u001b[1;34m(self, method, url, **kwargs)\u001b[0m\n\u001b[0;32m    927\u001b[0m \u001b[1;33m\u001b[0m\u001b[0m\n\u001b[0;32m    928\u001b[0m         \u001b[1;32mtry\u001b[0m\u001b[1;33m:\u001b[0m\u001b[1;33m\u001b[0m\u001b[1;33m\u001b[0m\u001b[0m\n\u001b[1;32m--> 929\u001b[1;33m             \u001b[1;32mreturn\u001b[0m \u001b[0msuper\u001b[0m\u001b[1;33m(\u001b[0m\u001b[0m_Client\u001b[0m\u001b[1;33m,\u001b[0m \u001b[0mself\u001b[0m\u001b[1;33m)\u001b[0m\u001b[1;33m.\u001b[0m\u001b[0mrequest\u001b[0m\u001b[1;33m(\u001b[0m\u001b[0mmethod\u001b[0m\u001b[1;33m,\u001b[0m \u001b[0murl\u001b[0m\u001b[1;33m,\u001b[0m \u001b[1;33m**\u001b[0m\u001b[0mkwargs\u001b[0m\u001b[1;33m)\u001b[0m\u001b[1;33m\u001b[0m\u001b[1;33m\u001b[0m\u001b[0m\n\u001b[0m\u001b[0;32m    930\u001b[0m         \u001b[1;32mexcept\u001b[0m \u001b[0mrequests\u001b[0m\u001b[1;33m.\u001b[0m\u001b[0mexceptions\u001b[0m\u001b[1;33m.\u001b[0m\u001b[0mRequestException\u001b[0m \u001b[1;32mas\u001b[0m \u001b[0merror\u001b[0m\u001b[1;33m:\u001b[0m\u001b[1;33m\u001b[0m\u001b[1;33m\u001b[0m\u001b[0m\n\u001b[0;32m    931\u001b[0m             \u001b[1;32mraise\u001b[0m \u001b[0m_Client\u001b[0m\u001b[1;33m.\u001b[0m\u001b[0mhandle_rtdb_error\u001b[0m\u001b[1;33m(\u001b[0m\u001b[0merror\u001b[0m\u001b[1;33m)\u001b[0m\u001b[1;33m\u001b[0m\u001b[1;33m\u001b[0m\u001b[0m\n",
      "\u001b[1;32m~\\anaconda3\\lib\\site-packages\\firebase_admin\\_http_client.py\u001b[0m in \u001b[0;36mrequest\u001b[1;34m(self, method, url, **kwargs)\u001b[0m\n\u001b[0;32m    116\u001b[0m         \u001b[1;32mif\u001b[0m \u001b[1;34m'timeout'\u001b[0m \u001b[1;32mnot\u001b[0m \u001b[1;32min\u001b[0m \u001b[0mkwargs\u001b[0m\u001b[1;33m:\u001b[0m\u001b[1;33m\u001b[0m\u001b[1;33m\u001b[0m\u001b[0m\n\u001b[0;32m    117\u001b[0m             \u001b[0mkwargs\u001b[0m\u001b[1;33m[\u001b[0m\u001b[1;34m'timeout'\u001b[0m\u001b[1;33m]\u001b[0m \u001b[1;33m=\u001b[0m \u001b[0mself\u001b[0m\u001b[1;33m.\u001b[0m\u001b[0mtimeout\u001b[0m\u001b[1;33m\u001b[0m\u001b[1;33m\u001b[0m\u001b[0m\n\u001b[1;32m--> 118\u001b[1;33m         \u001b[0mresp\u001b[0m \u001b[1;33m=\u001b[0m \u001b[0mself\u001b[0m\u001b[1;33m.\u001b[0m\u001b[0m_session\u001b[0m\u001b[1;33m.\u001b[0m\u001b[0mrequest\u001b[0m\u001b[1;33m(\u001b[0m\u001b[0mmethod\u001b[0m\u001b[1;33m,\u001b[0m \u001b[0mself\u001b[0m\u001b[1;33m.\u001b[0m\u001b[0mbase_url\u001b[0m \u001b[1;33m+\u001b[0m \u001b[0murl\u001b[0m\u001b[1;33m,\u001b[0m \u001b[1;33m**\u001b[0m\u001b[0mkwargs\u001b[0m\u001b[1;33m)\u001b[0m\u001b[1;33m\u001b[0m\u001b[1;33m\u001b[0m\u001b[0m\n\u001b[0m\u001b[0;32m    119\u001b[0m         \u001b[0mresp\u001b[0m\u001b[1;33m.\u001b[0m\u001b[0mraise_for_status\u001b[0m\u001b[1;33m(\u001b[0m\u001b[1;33m)\u001b[0m\u001b[1;33m\u001b[0m\u001b[1;33m\u001b[0m\u001b[0m\n\u001b[0;32m    120\u001b[0m         \u001b[1;32mreturn\u001b[0m \u001b[0mresp\u001b[0m\u001b[1;33m\u001b[0m\u001b[1;33m\u001b[0m\u001b[0m\n",
      "\u001b[1;32m~\\anaconda3\\lib\\site-packages\\google\\auth\\transport\\requests.py\u001b[0m in \u001b[0;36mrequest\u001b[1;34m(self, method, url, data, headers, max_allowed_time, timeout, **kwargs)\u001b[0m\n\u001b[0;32m    478\u001b[0m \u001b[1;33m\u001b[0m\u001b[0m\n\u001b[0;32m    479\u001b[0m         \u001b[1;32mwith\u001b[0m \u001b[0mTimeoutGuard\u001b[0m\u001b[1;33m(\u001b[0m\u001b[0mremaining_time\u001b[0m\u001b[1;33m)\u001b[0m \u001b[1;32mas\u001b[0m \u001b[0mguard\u001b[0m\u001b[1;33m:\u001b[0m\u001b[1;33m\u001b[0m\u001b[1;33m\u001b[0m\u001b[0m\n\u001b[1;32m--> 480\u001b[1;33m             response = super(AuthorizedSession, self).request(\n\u001b[0m\u001b[0;32m    481\u001b[0m                 \u001b[0mmethod\u001b[0m\u001b[1;33m,\u001b[0m\u001b[1;33m\u001b[0m\u001b[1;33m\u001b[0m\u001b[0m\n\u001b[0;32m    482\u001b[0m                 \u001b[0murl\u001b[0m\u001b[1;33m,\u001b[0m\u001b[1;33m\u001b[0m\u001b[1;33m\u001b[0m\u001b[0m\n",
      "\u001b[1;32m~\\anaconda3\\lib\\site-packages\\requests\\sessions.py\u001b[0m in \u001b[0;36mrequest\u001b[1;34m(self, method, url, params, data, headers, cookies, files, auth, timeout, allow_redirects, proxies, hooks, stream, verify, cert, json)\u001b[0m\n\u001b[0;32m    540\u001b[0m         }\n\u001b[0;32m    541\u001b[0m         \u001b[0msend_kwargs\u001b[0m\u001b[1;33m.\u001b[0m\u001b[0mupdate\u001b[0m\u001b[1;33m(\u001b[0m\u001b[0msettings\u001b[0m\u001b[1;33m)\u001b[0m\u001b[1;33m\u001b[0m\u001b[1;33m\u001b[0m\u001b[0m\n\u001b[1;32m--> 542\u001b[1;33m         \u001b[0mresp\u001b[0m \u001b[1;33m=\u001b[0m \u001b[0mself\u001b[0m\u001b[1;33m.\u001b[0m\u001b[0msend\u001b[0m\u001b[1;33m(\u001b[0m\u001b[0mprep\u001b[0m\u001b[1;33m,\u001b[0m \u001b[1;33m**\u001b[0m\u001b[0msend_kwargs\u001b[0m\u001b[1;33m)\u001b[0m\u001b[1;33m\u001b[0m\u001b[1;33m\u001b[0m\u001b[0m\n\u001b[0m\u001b[0;32m    543\u001b[0m \u001b[1;33m\u001b[0m\u001b[0m\n\u001b[0;32m    544\u001b[0m         \u001b[1;32mreturn\u001b[0m \u001b[0mresp\u001b[0m\u001b[1;33m\u001b[0m\u001b[1;33m\u001b[0m\u001b[0m\n",
      "\u001b[1;32m~\\anaconda3\\lib\\site-packages\\requests\\sessions.py\u001b[0m in \u001b[0;36msend\u001b[1;34m(self, request, **kwargs)\u001b[0m\n\u001b[0;32m    653\u001b[0m \u001b[1;33m\u001b[0m\u001b[0m\n\u001b[0;32m    654\u001b[0m         \u001b[1;31m# Send the request\u001b[0m\u001b[1;33m\u001b[0m\u001b[1;33m\u001b[0m\u001b[1;33m\u001b[0m\u001b[0m\n\u001b[1;32m--> 655\u001b[1;33m         \u001b[0mr\u001b[0m \u001b[1;33m=\u001b[0m \u001b[0madapter\u001b[0m\u001b[1;33m.\u001b[0m\u001b[0msend\u001b[0m\u001b[1;33m(\u001b[0m\u001b[0mrequest\u001b[0m\u001b[1;33m,\u001b[0m \u001b[1;33m**\u001b[0m\u001b[0mkwargs\u001b[0m\u001b[1;33m)\u001b[0m\u001b[1;33m\u001b[0m\u001b[1;33m\u001b[0m\u001b[0m\n\u001b[0m\u001b[0;32m    656\u001b[0m \u001b[1;33m\u001b[0m\u001b[0m\n\u001b[0;32m    657\u001b[0m         \u001b[1;31m# Total elapsed time of the request (approximately)\u001b[0m\u001b[1;33m\u001b[0m\u001b[1;33m\u001b[0m\u001b[1;33m\u001b[0m\u001b[0m\n",
      "\u001b[1;32m~\\anaconda3\\lib\\site-packages\\requests\\adapters.py\u001b[0m in \u001b[0;36msend\u001b[1;34m(self, request, stream, timeout, verify, cert, proxies)\u001b[0m\n\u001b[0;32m    437\u001b[0m         \u001b[1;32mtry\u001b[0m\u001b[1;33m:\u001b[0m\u001b[1;33m\u001b[0m\u001b[1;33m\u001b[0m\u001b[0m\n\u001b[0;32m    438\u001b[0m             \u001b[1;32mif\u001b[0m \u001b[1;32mnot\u001b[0m \u001b[0mchunked\u001b[0m\u001b[1;33m:\u001b[0m\u001b[1;33m\u001b[0m\u001b[1;33m\u001b[0m\u001b[0m\n\u001b[1;32m--> 439\u001b[1;33m                 resp = conn.urlopen(\n\u001b[0m\u001b[0;32m    440\u001b[0m                     \u001b[0mmethod\u001b[0m\u001b[1;33m=\u001b[0m\u001b[0mrequest\u001b[0m\u001b[1;33m.\u001b[0m\u001b[0mmethod\u001b[0m\u001b[1;33m,\u001b[0m\u001b[1;33m\u001b[0m\u001b[1;33m\u001b[0m\u001b[0m\n\u001b[0;32m    441\u001b[0m                     \u001b[0murl\u001b[0m\u001b[1;33m=\u001b[0m\u001b[0murl\u001b[0m\u001b[1;33m,\u001b[0m\u001b[1;33m\u001b[0m\u001b[1;33m\u001b[0m\u001b[0m\n",
      "\u001b[1;32m~\\anaconda3\\lib\\site-packages\\urllib3\\connectionpool.py\u001b[0m in \u001b[0;36murlopen\u001b[1;34m(self, method, url, body, headers, retries, redirect, assert_same_host, timeout, pool_timeout, release_conn, chunked, body_pos, **response_kw)\u001b[0m\n\u001b[0;32m    697\u001b[0m \u001b[1;33m\u001b[0m\u001b[0m\n\u001b[0;32m    698\u001b[0m             \u001b[1;31m# Make the request on the httplib connection object.\u001b[0m\u001b[1;33m\u001b[0m\u001b[1;33m\u001b[0m\u001b[1;33m\u001b[0m\u001b[0m\n\u001b[1;32m--> 699\u001b[1;33m             httplib_response = self._make_request(\n\u001b[0m\u001b[0;32m    700\u001b[0m                 \u001b[0mconn\u001b[0m\u001b[1;33m,\u001b[0m\u001b[1;33m\u001b[0m\u001b[1;33m\u001b[0m\u001b[0m\n\u001b[0;32m    701\u001b[0m                 \u001b[0mmethod\u001b[0m\u001b[1;33m,\u001b[0m\u001b[1;33m\u001b[0m\u001b[1;33m\u001b[0m\u001b[0m\n",
      "\u001b[1;32m~\\anaconda3\\lib\\site-packages\\urllib3\\connectionpool.py\u001b[0m in \u001b[0;36m_make_request\u001b[1;34m(self, conn, method, url, timeout, chunked, **httplib_request_kw)\u001b[0m\n\u001b[0;32m    443\u001b[0m                     \u001b[1;31m# Python 3 (including for exceptions like SystemExit).\u001b[0m\u001b[1;33m\u001b[0m\u001b[1;33m\u001b[0m\u001b[1;33m\u001b[0m\u001b[0m\n\u001b[0;32m    444\u001b[0m                     \u001b[1;31m# Otherwise it looks like a bug in the code.\u001b[0m\u001b[1;33m\u001b[0m\u001b[1;33m\u001b[0m\u001b[1;33m\u001b[0m\u001b[0m\n\u001b[1;32m--> 445\u001b[1;33m                     \u001b[0msix\u001b[0m\u001b[1;33m.\u001b[0m\u001b[0mraise_from\u001b[0m\u001b[1;33m(\u001b[0m\u001b[0me\u001b[0m\u001b[1;33m,\u001b[0m \u001b[1;32mNone\u001b[0m\u001b[1;33m)\u001b[0m\u001b[1;33m\u001b[0m\u001b[1;33m\u001b[0m\u001b[0m\n\u001b[0m\u001b[0;32m    446\u001b[0m         \u001b[1;32mexcept\u001b[0m \u001b[1;33m(\u001b[0m\u001b[0mSocketTimeout\u001b[0m\u001b[1;33m,\u001b[0m \u001b[0mBaseSSLError\u001b[0m\u001b[1;33m,\u001b[0m \u001b[0mSocketError\u001b[0m\u001b[1;33m)\u001b[0m \u001b[1;32mas\u001b[0m \u001b[0me\u001b[0m\u001b[1;33m:\u001b[0m\u001b[1;33m\u001b[0m\u001b[1;33m\u001b[0m\u001b[0m\n\u001b[0;32m    447\u001b[0m             \u001b[0mself\u001b[0m\u001b[1;33m.\u001b[0m\u001b[0m_raise_timeout\u001b[0m\u001b[1;33m(\u001b[0m\u001b[0merr\u001b[0m\u001b[1;33m=\u001b[0m\u001b[0me\u001b[0m\u001b[1;33m,\u001b[0m \u001b[0murl\u001b[0m\u001b[1;33m=\u001b[0m\u001b[0murl\u001b[0m\u001b[1;33m,\u001b[0m \u001b[0mtimeout_value\u001b[0m\u001b[1;33m=\u001b[0m\u001b[0mread_timeout\u001b[0m\u001b[1;33m)\u001b[0m\u001b[1;33m\u001b[0m\u001b[1;33m\u001b[0m\u001b[0m\n",
      "\u001b[1;32m~\\anaconda3\\lib\\site-packages\\urllib3\\packages\\six.py\u001b[0m in \u001b[0;36mraise_from\u001b[1;34m(value, from_value)\u001b[0m\n",
      "\u001b[1;32m~\\anaconda3\\lib\\site-packages\\urllib3\\connectionpool.py\u001b[0m in \u001b[0;36m_make_request\u001b[1;34m(self, conn, method, url, timeout, chunked, **httplib_request_kw)\u001b[0m\n\u001b[0;32m    438\u001b[0m                 \u001b[1;31m# Python 3\u001b[0m\u001b[1;33m\u001b[0m\u001b[1;33m\u001b[0m\u001b[1;33m\u001b[0m\u001b[0m\n\u001b[0;32m    439\u001b[0m                 \u001b[1;32mtry\u001b[0m\u001b[1;33m:\u001b[0m\u001b[1;33m\u001b[0m\u001b[1;33m\u001b[0m\u001b[0m\n\u001b[1;32m--> 440\u001b[1;33m                     \u001b[0mhttplib_response\u001b[0m \u001b[1;33m=\u001b[0m \u001b[0mconn\u001b[0m\u001b[1;33m.\u001b[0m\u001b[0mgetresponse\u001b[0m\u001b[1;33m(\u001b[0m\u001b[1;33m)\u001b[0m\u001b[1;33m\u001b[0m\u001b[1;33m\u001b[0m\u001b[0m\n\u001b[0m\u001b[0;32m    441\u001b[0m                 \u001b[1;32mexcept\u001b[0m \u001b[0mBaseException\u001b[0m \u001b[1;32mas\u001b[0m \u001b[0me\u001b[0m\u001b[1;33m:\u001b[0m\u001b[1;33m\u001b[0m\u001b[1;33m\u001b[0m\u001b[0m\n\u001b[0;32m    442\u001b[0m                     \u001b[1;31m# Remove the TypeError from the exception chain in\u001b[0m\u001b[1;33m\u001b[0m\u001b[1;33m\u001b[0m\u001b[1;33m\u001b[0m\u001b[0m\n",
      "\u001b[1;32m~\\anaconda3\\lib\\http\\client.py\u001b[0m in \u001b[0;36mgetresponse\u001b[1;34m(self)\u001b[0m\n\u001b[0;32m   1345\u001b[0m         \u001b[1;32mtry\u001b[0m\u001b[1;33m:\u001b[0m\u001b[1;33m\u001b[0m\u001b[1;33m\u001b[0m\u001b[0m\n\u001b[0;32m   1346\u001b[0m             \u001b[1;32mtry\u001b[0m\u001b[1;33m:\u001b[0m\u001b[1;33m\u001b[0m\u001b[1;33m\u001b[0m\u001b[0m\n\u001b[1;32m-> 1347\u001b[1;33m                 \u001b[0mresponse\u001b[0m\u001b[1;33m.\u001b[0m\u001b[0mbegin\u001b[0m\u001b[1;33m(\u001b[0m\u001b[1;33m)\u001b[0m\u001b[1;33m\u001b[0m\u001b[1;33m\u001b[0m\u001b[0m\n\u001b[0m\u001b[0;32m   1348\u001b[0m             \u001b[1;32mexcept\u001b[0m \u001b[0mConnectionError\u001b[0m\u001b[1;33m:\u001b[0m\u001b[1;33m\u001b[0m\u001b[1;33m\u001b[0m\u001b[0m\n\u001b[0;32m   1349\u001b[0m                 \u001b[0mself\u001b[0m\u001b[1;33m.\u001b[0m\u001b[0mclose\u001b[0m\u001b[1;33m(\u001b[0m\u001b[1;33m)\u001b[0m\u001b[1;33m\u001b[0m\u001b[1;33m\u001b[0m\u001b[0m\n",
      "\u001b[1;32m~\\anaconda3\\lib\\http\\client.py\u001b[0m in \u001b[0;36mbegin\u001b[1;34m(self)\u001b[0m\n\u001b[0;32m    305\u001b[0m         \u001b[1;31m# read until we get a non-100 response\u001b[0m\u001b[1;33m\u001b[0m\u001b[1;33m\u001b[0m\u001b[1;33m\u001b[0m\u001b[0m\n\u001b[0;32m    306\u001b[0m         \u001b[1;32mwhile\u001b[0m \u001b[1;32mTrue\u001b[0m\u001b[1;33m:\u001b[0m\u001b[1;33m\u001b[0m\u001b[1;33m\u001b[0m\u001b[0m\n\u001b[1;32m--> 307\u001b[1;33m             \u001b[0mversion\u001b[0m\u001b[1;33m,\u001b[0m \u001b[0mstatus\u001b[0m\u001b[1;33m,\u001b[0m \u001b[0mreason\u001b[0m \u001b[1;33m=\u001b[0m \u001b[0mself\u001b[0m\u001b[1;33m.\u001b[0m\u001b[0m_read_status\u001b[0m\u001b[1;33m(\u001b[0m\u001b[1;33m)\u001b[0m\u001b[1;33m\u001b[0m\u001b[1;33m\u001b[0m\u001b[0m\n\u001b[0m\u001b[0;32m    308\u001b[0m             \u001b[1;32mif\u001b[0m \u001b[0mstatus\u001b[0m \u001b[1;33m!=\u001b[0m \u001b[0mCONTINUE\u001b[0m\u001b[1;33m:\u001b[0m\u001b[1;33m\u001b[0m\u001b[1;33m\u001b[0m\u001b[0m\n\u001b[0;32m    309\u001b[0m                 \u001b[1;32mbreak\u001b[0m\u001b[1;33m\u001b[0m\u001b[1;33m\u001b[0m\u001b[0m\n",
      "\u001b[1;32m~\\anaconda3\\lib\\http\\client.py\u001b[0m in \u001b[0;36m_read_status\u001b[1;34m(self)\u001b[0m\n\u001b[0;32m    266\u001b[0m \u001b[1;33m\u001b[0m\u001b[0m\n\u001b[0;32m    267\u001b[0m     \u001b[1;32mdef\u001b[0m \u001b[0m_read_status\u001b[0m\u001b[1;33m(\u001b[0m\u001b[0mself\u001b[0m\u001b[1;33m)\u001b[0m\u001b[1;33m:\u001b[0m\u001b[1;33m\u001b[0m\u001b[1;33m\u001b[0m\u001b[0m\n\u001b[1;32m--> 268\u001b[1;33m         \u001b[0mline\u001b[0m \u001b[1;33m=\u001b[0m \u001b[0mstr\u001b[0m\u001b[1;33m(\u001b[0m\u001b[0mself\u001b[0m\u001b[1;33m.\u001b[0m\u001b[0mfp\u001b[0m\u001b[1;33m.\u001b[0m\u001b[0mreadline\u001b[0m\u001b[1;33m(\u001b[0m\u001b[0m_MAXLINE\u001b[0m \u001b[1;33m+\u001b[0m \u001b[1;36m1\u001b[0m\u001b[1;33m)\u001b[0m\u001b[1;33m,\u001b[0m \u001b[1;34m\"iso-8859-1\"\u001b[0m\u001b[1;33m)\u001b[0m\u001b[1;33m\u001b[0m\u001b[1;33m\u001b[0m\u001b[0m\n\u001b[0m\u001b[0;32m    269\u001b[0m         \u001b[1;32mif\u001b[0m \u001b[0mlen\u001b[0m\u001b[1;33m(\u001b[0m\u001b[0mline\u001b[0m\u001b[1;33m)\u001b[0m \u001b[1;33m>\u001b[0m \u001b[0m_MAXLINE\u001b[0m\u001b[1;33m:\u001b[0m\u001b[1;33m\u001b[0m\u001b[1;33m\u001b[0m\u001b[0m\n\u001b[0;32m    270\u001b[0m             \u001b[1;32mraise\u001b[0m \u001b[0mLineTooLong\u001b[0m\u001b[1;33m(\u001b[0m\u001b[1;34m\"status line\"\u001b[0m\u001b[1;33m)\u001b[0m\u001b[1;33m\u001b[0m\u001b[1;33m\u001b[0m\u001b[0m\n",
      "\u001b[1;32m~\\anaconda3\\lib\\socket.py\u001b[0m in \u001b[0;36mreadinto\u001b[1;34m(self, b)\u001b[0m\n\u001b[0;32m    667\u001b[0m         \u001b[1;32mwhile\u001b[0m \u001b[1;32mTrue\u001b[0m\u001b[1;33m:\u001b[0m\u001b[1;33m\u001b[0m\u001b[1;33m\u001b[0m\u001b[0m\n\u001b[0;32m    668\u001b[0m             \u001b[1;32mtry\u001b[0m\u001b[1;33m:\u001b[0m\u001b[1;33m\u001b[0m\u001b[1;33m\u001b[0m\u001b[0m\n\u001b[1;32m--> 669\u001b[1;33m                 \u001b[1;32mreturn\u001b[0m \u001b[0mself\u001b[0m\u001b[1;33m.\u001b[0m\u001b[0m_sock\u001b[0m\u001b[1;33m.\u001b[0m\u001b[0mrecv_into\u001b[0m\u001b[1;33m(\u001b[0m\u001b[0mb\u001b[0m\u001b[1;33m)\u001b[0m\u001b[1;33m\u001b[0m\u001b[1;33m\u001b[0m\u001b[0m\n\u001b[0m\u001b[0;32m    670\u001b[0m             \u001b[1;32mexcept\u001b[0m \u001b[0mtimeout\u001b[0m\u001b[1;33m:\u001b[0m\u001b[1;33m\u001b[0m\u001b[1;33m\u001b[0m\u001b[0m\n\u001b[0;32m    671\u001b[0m                 \u001b[0mself\u001b[0m\u001b[1;33m.\u001b[0m\u001b[0m_timeout_occurred\u001b[0m \u001b[1;33m=\u001b[0m \u001b[1;32mTrue\u001b[0m\u001b[1;33m\u001b[0m\u001b[1;33m\u001b[0m\u001b[0m\n",
      "\u001b[1;32m~\\anaconda3\\lib\\ssl.py\u001b[0m in \u001b[0;36mrecv_into\u001b[1;34m(self, buffer, nbytes, flags)\u001b[0m\n\u001b[0;32m   1239\u001b[0m                   \u001b[1;34m\"non-zero flags not allowed in calls to recv_into() on %s\"\u001b[0m \u001b[1;33m%\u001b[0m\u001b[1;33m\u001b[0m\u001b[1;33m\u001b[0m\u001b[0m\n\u001b[0;32m   1240\u001b[0m                   self.__class__)\n\u001b[1;32m-> 1241\u001b[1;33m             \u001b[1;32mreturn\u001b[0m \u001b[0mself\u001b[0m\u001b[1;33m.\u001b[0m\u001b[0mread\u001b[0m\u001b[1;33m(\u001b[0m\u001b[0mnbytes\u001b[0m\u001b[1;33m,\u001b[0m \u001b[0mbuffer\u001b[0m\u001b[1;33m)\u001b[0m\u001b[1;33m\u001b[0m\u001b[1;33m\u001b[0m\u001b[0m\n\u001b[0m\u001b[0;32m   1242\u001b[0m         \u001b[1;32melse\u001b[0m\u001b[1;33m:\u001b[0m\u001b[1;33m\u001b[0m\u001b[1;33m\u001b[0m\u001b[0m\n\u001b[0;32m   1243\u001b[0m             \u001b[1;32mreturn\u001b[0m \u001b[0msuper\u001b[0m\u001b[1;33m(\u001b[0m\u001b[1;33m)\u001b[0m\u001b[1;33m.\u001b[0m\u001b[0mrecv_into\u001b[0m\u001b[1;33m(\u001b[0m\u001b[0mbuffer\u001b[0m\u001b[1;33m,\u001b[0m \u001b[0mnbytes\u001b[0m\u001b[1;33m,\u001b[0m \u001b[0mflags\u001b[0m\u001b[1;33m)\u001b[0m\u001b[1;33m\u001b[0m\u001b[1;33m\u001b[0m\u001b[0m\n",
      "\u001b[1;32m~\\anaconda3\\lib\\ssl.py\u001b[0m in \u001b[0;36mread\u001b[1;34m(self, len, buffer)\u001b[0m\n\u001b[0;32m   1097\u001b[0m         \u001b[1;32mtry\u001b[0m\u001b[1;33m:\u001b[0m\u001b[1;33m\u001b[0m\u001b[1;33m\u001b[0m\u001b[0m\n\u001b[0;32m   1098\u001b[0m             \u001b[1;32mif\u001b[0m \u001b[0mbuffer\u001b[0m \u001b[1;32mis\u001b[0m \u001b[1;32mnot\u001b[0m \u001b[1;32mNone\u001b[0m\u001b[1;33m:\u001b[0m\u001b[1;33m\u001b[0m\u001b[1;33m\u001b[0m\u001b[0m\n\u001b[1;32m-> 1099\u001b[1;33m                 \u001b[1;32mreturn\u001b[0m \u001b[0mself\u001b[0m\u001b[1;33m.\u001b[0m\u001b[0m_sslobj\u001b[0m\u001b[1;33m.\u001b[0m\u001b[0mread\u001b[0m\u001b[1;33m(\u001b[0m\u001b[0mlen\u001b[0m\u001b[1;33m,\u001b[0m \u001b[0mbuffer\u001b[0m\u001b[1;33m)\u001b[0m\u001b[1;33m\u001b[0m\u001b[1;33m\u001b[0m\u001b[0m\n\u001b[0m\u001b[0;32m   1100\u001b[0m             \u001b[1;32melse\u001b[0m\u001b[1;33m:\u001b[0m\u001b[1;33m\u001b[0m\u001b[1;33m\u001b[0m\u001b[0m\n\u001b[0;32m   1101\u001b[0m                 \u001b[1;32mreturn\u001b[0m \u001b[0mself\u001b[0m\u001b[1;33m.\u001b[0m\u001b[0m_sslobj\u001b[0m\u001b[1;33m.\u001b[0m\u001b[0mread\u001b[0m\u001b[1;33m(\u001b[0m\u001b[0mlen\u001b[0m\u001b[1;33m)\u001b[0m\u001b[1;33m\u001b[0m\u001b[1;33m\u001b[0m\u001b[0m\n",
      "\u001b[1;31mKeyboardInterrupt\u001b[0m: "
     ]
    }
   ],
   "source": [
    "while True:\n",
    "    #파이어베이스에서 1이라고 인식할 시\n",
    "    ref1 = db.reference('barcode/barcode')\n",
    "    ref = db.reference('barcode')\n",
    "\n",
    "    #바코드 가지고 오는 코드\n",
    "    row = ref1.get()\n",
    "    #10이면 사진찍고 올린 상태임\n",
    "    if (row == \"10\"):\n",
    "        # 이미지 다운코드(되나 확인 부탁)\n",
    "        credentials = service_account.Credentials.from_service_account_file(\"cg24-8875b-firebase-adminsdk-89mhn-99633286a5.json\")\n",
    "        x = datetime.datetime.now()\n",
    "        file_name=\"cupimg \"+x.strftime(\"%d %B %Y \")+x.strftime(\"%Hh %Mm %Ss\")+'.jpg'\n",
    "        storage.Client(credentials=credentials).bucket(firebase_admin.storage.bucket().name).blob('image_store/image.jpg').download_to_filename(file_name)\n",
    "\n",
    "        \n",
    "        #그 후 이미지 판별하는 코드\n",
    "\n",
    "        image3 = PIL.Image.open(file_name)\n",
    "        image3.save(file_name)\n",
    "        area = (220,80,730,600)\n",
    "        crop_img = image3.crop(area)\n",
    "        crop_img.save(file_name)\n",
    "        img3 =crop_img.resize((64,64))\n",
    "        re_img3 = tf(img3) # 해주면 image의 shape는 (3,64,64) 이된다\n",
    "        value = predict(re_img3)\n",
    "        if value == 0: #깨끗하면\n",
    "            percent = predicts(re_img3) \n",
    "            prediction = 400\n",
    "            print(percent)\n",
    "            percent_100 = (1 - percent[0][0])*100 #(깨끗한 경우에만 몇퍼센드인지)\n",
    "            print(percent_100)\n",
    "        else: # 더러우면 \n",
    "            percent = predicts(re_img3) \n",
    "            prediction = 200\n",
    "            print(percent)\n",
    "            percent_100 = percent[0][0]*100\n",
    "            print(percent_100)\n",
    "            \n",
    "            \n",
    "         # 현재 사용자 파악하기\n",
    "        ref = db.reference(\"CG24/IDs/present_barcode\")\n",
    "        user_id = ref.get()        # 현재 사용자의 id\n",
    "        print(user_id)\n",
    "\n",
    "        # 현재까지 찍은 컵의 개수\n",
    "        ref = db.reference(\"CG24/UserAccount/\"+user_id+\"/\"+\"cup/CupCount/count\")\n",
    "        index_num = ref.get()\n",
    "        print('index_num: ' ,index_num)\n",
    "        \n",
    "        \n",
    "        \n",
    "        \n",
    "        # 컵의 개수 초기값\n",
    "        if (index_num==None):\n",
    "            dir=db.reference(\"CG24/UserAccount/\"+user_id+\"/\"+\"cup/CupCount/\")\n",
    "            dir.update({'count': 0})\n",
    "        \n",
    "            ref = db.reference(\"CG24/UserAccount/\"+user_id+\"/\"+\"cup/CupCount/count\")\n",
    "            index_num = ref.get()\n",
    "        \n",
    "            print(\"if none:\",index_num)\n",
    "\n",
    "        index_str=str(index_num)\n",
    "        \n",
    "        \n",
    "        # 컵 청결도 결과 저장하기\n",
    "        dir=db.reference(\"CG24/UserAccount/\"+user_id+\"/\"+\"cup/\"+index_str)\n",
    "        dir.update({'prediction': prediction})\n",
    "        \n",
    "        now = datetime.datetime.now()\n",
    "        dir.update({'datetime': str(now.date())})      # 현재 날짜\n",
    "        dir.update({'datetime2': str(x.strftime(\"%d %B %Y \")+x.strftime(\"%Hh %Mm %Ss\"))})   # 현재 시간\n",
    "        \n",
    "        \n",
    "        # 현재까지 prediction 값\n",
    "        prediction_ref=db.reference(\"CG24/UserAccount/\"+user_id+\"/\"+\"cup/CupCount/point\")\n",
    "        old_prediction = prediction_ref.get()\n",
    "        totoal_points=old_prediction\n",
    "        \n",
    "        \n",
    "        #그냥 프린트 하는 값\n",
    "        count = db.reference(\"CG24/UserAccount/\"+user_id+\"/\"+\"cup/CupCount/point\")\n",
    "        total_point2 = count.get()\n",
    "\n",
    "\n",
    "        \n",
    "        #ref_pred=db.reference(\"CG24/UserAccount/\"+user_id+\"/\"+\"cup/\"+str(index_num-1)+\"/prediction\")\n",
    "        ref_pred=db.reference(\"CG24/UserAccount/\"+user_id+\"/\"+\"cup/\"+str(index_num)+\"/prediction\")\n",
    "        totoal_points=totoal_points+int(ref_pred.get())\n",
    "    \n",
    "        dir=db.reference(\"CG24/UserAccount/\"+user_id+\"/\"+\"cup/CupCount/\")\n",
    "        dir.update({'point': totoal_points})\n",
    "        \n",
    "\n",
    "        # 찍은 컵의 개수 +1\n",
    "        index_num=index_num+1\n",
    "        dir=db.reference(\"CG24/UserAccount/\"+user_id+\"/\"+\"cup/CupCount/\")\n",
    "        dir.update({'count': index_num})\n",
    "        \n",
    "        \n",
    "        #이미지 판별 끝나고 더러우면  100으로, 깨끗하면 1000으로 바꿔주기(if, else)\n",
    "        ref3 = db.reference('barcode')\n",
    "        if prediction == 400 :\n",
    "            \n",
    "            ref3.update({'barcode':\"1000\"})\n",
    "        else:\n",
    "            ref3.update({'barcode':\"100\"})\n",
    "            \n",
    "        \n",
    "        \n",
    "\n",
    "    else : \n",
    "        continue\n",
    "    sleep(1)"
   ]
  },
  {
   "cell_type": "code",
   "execution_count": 6,
   "id": "09558d40",
   "metadata": {},
   "outputs": [],
   "source": [
    "from time import sleep\n",
    "import datetime\n",
    "import sys, os\n",
    "import requests\n",
    "import firebase_admin\n",
    "from firebase_admin import credentials\n",
    "from firebase_admin import storage\n",
    "from firebase_admin import db\n",
    "from uuid import uuid4\n",
    "\n",
    "from firebase_admin import db"
   ]
  },
  {
   "cell_type": "code",
   "execution_count": 2,
   "id": "e628ed0d",
   "metadata": {},
   "outputs": [
    {
     "name": "stdout",
     "output_type": "stream",
     "text": [
      "Collecting db\n",
      "  Downloading db-0.1.1.tar.gz (3.4 kB)\n",
      "  Preparing metadata (setup.py): started\n",
      "  Preparing metadata (setup.py): finished with status 'done'\n",
      "Collecting antiorm\n",
      "  Downloading antiorm-1.2.1.tar.gz (171 kB)\n",
      "     -------------------------------------- 172.0/172.0 kB 5.1 MB/s eta 0:00:00\n",
      "  Preparing metadata (setup.py): started\n",
      "  Preparing metadata (setup.py): finished with status 'done'\n",
      "Building wheels for collected packages: db, antiorm\n",
      "  Building wheel for db (setup.py): started\n",
      "  Building wheel for db (setup.py): finished with status 'done'\n",
      "  Created wheel for db: filename=db-0.1.1-py3-none-any.whl size=3894 sha256=500f7ed0b9989482ae1d6ee9f08e7b87158663e0ccedee633c17ad184fa3f209\n",
      "  Stored in directory: c:\\users\\rhskr\\appdata\\local\\pip\\cache\\wheels\\43\\94\\01\\2470e037a87c7f4fe93e4a110ee8c01b495d53db5de40b216b\n",
      "  Building wheel for antiorm (setup.py): started\n",
      "  Building wheel for antiorm (setup.py): finished with status 'done'\n",
      "  Created wheel for antiorm: filename=antiorm-1.2.1-py3-none-any.whl size=31664 sha256=e407e6c8637e7e7072e6e6458276a53ddd9c2b6f9cf81249d525f8c31bb1a4af\n",
      "  Stored in directory: c:\\users\\rhskr\\appdata\\local\\pip\\cache\\wheels\\23\\fc\\3e\\c02e21af9692d533cae0374d54eb3502764cedb8a3edaf6e5c\n",
      "Successfully built db antiorm\n",
      "Installing collected packages: antiorm, db\n",
      "Successfully installed antiorm-1.2.1 db-0.1.1\n"
     ]
    }
   ],
   "source": [
    "!pip install db"
   ]
  },
  {
   "cell_type": "markdown",
   "id": "5b71fee4",
   "metadata": {},
   "source": [
    "# 사진 업로드해서 확인해보기"
   ]
  },
  {
   "cell_type": "markdown",
   "id": "43167dae",
   "metadata": {},
   "source": [
    "### 더러운 기준점을 찾아야할듯"
   ]
  },
  {
   "cell_type": "code",
   "execution_count": 23,
   "id": "e7b64735",
   "metadata": {},
   "outputs": [
    {
     "data": {
      "text/plain": [
       "'C:\\\\Users\\\\rhskr\\\\meit_folder'"
      ]
     },
     "execution_count": 23,
     "metadata": {},
     "output_type": "execute_result"
    }
   ],
   "source": [
    "os.getcwd()"
   ]
  },
  {
   "cell_type": "code",
   "execution_count": 26,
   "id": "8b736224",
   "metadata": {},
   "outputs": [
    {
     "name": "stdout",
     "output_type": "stream",
     "text": [
      "percent:  tensor([[1.0000]], grad_fn=<SigmoidBackward0>)\n",
      "percent_100 tensor(100.0000, grad_fn=<MulBackward0>)\n"
     ]
    },
    {
     "data": {
      "image/png": "[encoded data removed]",
      "text/plain": [
       "<Figure size 432x288 with 1 Axes>"
      ]
     },
     "metadata": {
      "needs_background": "light"
     },
     "output_type": "display_data"
    }
   ],
   "source": [
    "image1 = PIL.Image.open('test1.jpg')\n",
    "re_img1 =image1.resize((64,64))\n",
    "plt.imshow(re_img1)\n",
    "re_img1 = tf(re_img1) # 해주면 image의 shape는 (3,64,64) 이된다\n",
    "value = predict(re_img1)\n",
    "if value == 0: #깨끗하면\n",
    "    percent = predicts(re_img1) \n",
    "    print('percent: ',percent)\n",
    "    percent_100 = (1 - percent[0][0])*100 #(깨끗한 경우에만 몇퍼센드인지)\n",
    "    print('percent_100',percent_100)\n",
    "    \n",
    "else: # 더러우면 \n",
    "    percent = predicts(re_img1) \n",
    "    print('percent: ',percent)\n",
    "    percent_100 = percent[0][0]*100\n",
    "    print('percent_100',percent_100)"
   ]
  },
  {
   "cell_type": "code",
   "execution_count": 33,
   "id": "44fe91be",
   "metadata": {},
   "outputs": [
    {
     "name": "stdout",
     "output_type": "stream",
     "text": [
      "percent:  tensor([[1.0000]], grad_fn=<SigmoidBackward0>)\n",
      "percent_100 tensor(99.9999, grad_fn=<MulBackward0>)\n"
     ]
    },
    {
     "data": {
      "image/png": "[encoded data removed]",
      "text/plain": [
       "<Figure size 432x288 with 1 Axes>"
      ]
     },
     "metadata": {
      "needs_background": "light"
     },
     "output_type": "display_data"
    }
   ],
   "source": [
    "image2 = PIL.Image.open('test2.jpg')\n",
    "re_img2 =image2.resize((64,64))\n",
    "plt.imshow(re_img2)\n",
    "re_img2 = tf(re_img2) # 해주면 image의 shape는 (3,64,64) 이된다\n",
    "value = predict(re_img2)\n",
    "if value == 0: #깨끗하면\n",
    "    percent = predicts(re_img2) \n",
    "    print('percent: ',percent)\n",
    "    percent_100 = (1 - percent[0][0])*100 #(깨끗한 경우에만 몇퍼센드인지)\n",
    "    print('percent_100',percent_100)\n",
    "    \n",
    "else: # 더러우면 \n",
    "    percent = predicts(re_img2) \n",
    "    print('percent: ',percent)\n",
    "    percent_100 = percent[0][0]*100\n",
    "    print('percent_100',percent_100)"
   ]
  },
  {
   "cell_type": "code",
   "execution_count": 30,
   "id": "e6c465c7",
   "metadata": {},
   "outputs": [
    {
     "name": "stdout",
     "output_type": "stream",
     "text": [
      "percent:  tensor([[1.]], grad_fn=<SigmoidBackward0>)\n",
      "percent_100 tensor(100., grad_fn=<MulBackward0>)\n"
     ]
    },
    {
     "data": {
      "image/png": "[encoded data removed]",
      "text/plain": [
       "<Figure size 432x288 with 1 Axes>"
      ]
     },
     "metadata": {
      "needs_background": "light"
     },
     "output_type": "display_data"
    }
   ],
   "source": [
    "image3 = PIL.Image.open('test3.jpg')\n",
    "re_img3 =image3.resize((64,64))\n",
    "plt.imshow(re_img3)\n",
    "re_img3 = tf(re_img3) # 해주면 image의 shape는 (3,64,64) 이된다\n",
    "value = predict(re_img3)\n",
    "if value == 0: #깨끗하면\n",
    "    percent = predicts(re_img3) \n",
    "    print('percent: ',percent)\n",
    "    percent_100 = (1 - percent[0][0])*100 #(깨끗한 경우에만 몇퍼센드인지)\n",
    "    print('percent_100',percent_100)\n",
    "    \n",
    "else: # 더러우면 \n",
    "    percent = predicts(re_img3) \n",
    "    print('percent: ',percent)\n",
    "    percent_100 = percent[0][0]*100\n",
    "    print('percent_100',percent_100)"
   ]
  },
  {
   "cell_type": "code",
   "execution_count": 44,
   "id": "0a4a3124",
   "metadata": {},
   "outputs": [
    {
     "name": "stdout",
     "output_type": "stream",
     "text": [
      "percent:  tensor([[1.]], grad_fn=<SigmoidBackward0>)\n",
      "percent_100 tensor(100., grad_fn=<MulBackward0>)\n"
     ]
    },
    {
     "data": {
      "image/png": "[encoded data removed]",
      "text/plain": [
       "<Figure size 432x288 with 1 Axes>"
      ]
     },
     "metadata": {
      "needs_background": "light"
     },
     "output_type": "display_data"
    }
   ],
   "source": [
    "image4 = PIL.Image.open('./test_image/test4.jpg')\n",
    "re_img4 =image4.resize((64,64))\n",
    "plt.imshow(re_img4)\n",
    "re_img4 = tf(re_img4) # 해주면 image의 shape는 (3,64,64) 이된다\n",
    "value = predict(re_img4)\n",
    "if value == 0: #깨끗하면\n",
    "    percent = predicts(re_img4) \n",
    "    print('percent: ',percent)\n",
    "    percent_100 = (1 - percent[0][0])*100 #(깨끗한 경우에만 몇퍼센드인지)\n",
    "    print('percent_100',percent_100)\n",
    "    \n",
    "else: # 더러우면 \n",
    "    percent = predicts(re_img4) \n",
    "    print('percent: ',percent)\n",
    "    percent_100 = percent[0][0]*100\n",
    "    print('percent_100',percent_100)"
   ]
  },
  {
   "cell_type": "code",
   "execution_count": 35,
   "id": "0fce67e5",
   "metadata": {},
   "outputs": [
    {
     "name": "stdout",
     "output_type": "stream",
     "text": [
      "percent:  tensor([[0.0056]], grad_fn=<SigmoidBackward0>)\n",
      "percent_100 tensor(99.4433, grad_fn=<MulBackward0>)\n"
     ]
    },
    {
     "data": {
      "image/png": "[encoded data removed]",
      "text/plain": [
       "<Figure size 432x288 with 1 Axes>"
      ]
     },
     "metadata": {
      "needs_background": "light"
     },
     "output_type": "display_data"
    }
   ],
   "source": [
    "image5 = PIL.Image.open('test5.jpg')\n",
    "re_img5 =image5.resize((64,64))\n",
    "plt.imshow(re_img5)\n",
    "re_img5 = tf(re_img5) # 해주면 image의 shape는 (3,64,64) 이된다\n",
    "value = predict(re_img5)\n",
    "if value == 0: #깨끗하면\n",
    "    percent = predicts(re_img5) \n",
    "    print('percent: ',percent)\n",
    "    percent_100 = (1 - percent[0][0])*100 #(깨끗한 경우에만 몇퍼센드인지)\n",
    "    print('percent_100',percent_100)\n",
    "    \n",
    "else: # 더러우면 \n",
    "    percent = predicts(re_img5) \n",
    "    print('percent: ',percent)\n",
    "    percent_100 = percent[0][0]*100\n",
    "    print('percent_100',percent_100)"
   ]
  },
  {
   "cell_type": "code",
   "execution_count": 79,
   "id": "45c1c5c5",
   "metadata": {},
   "outputs": [
    {
     "data": {
      "text/plain": [
       "<matplotlib.image.AxesImage at 0x1e34150d100>"
      ]
     },
     "execution_count": 79,
     "metadata": {},
     "output_type": "execute_result"
    },
    {
     "data": {
      "image/png": "[encoded data removed]",
      "text/plain": [
       "<Figure size 432x288 with 1 Axes>"
      ]
     },
     "metadata": {
      "needs_background": "light"
     },
     "output_type": "display_data"
    }
   ],
   "source": [
    "image5 = PIL.Image.open('cupimg 15 August 2022 15h 22m 00s.jpg')\n",
    "area = (300,200,700,600)\n",
    "crop_img = image5.crop(area)\n",
    "#plt.imshow(image5)\n",
    "plt.imshow(crop_img)"
   ]
  },
  {
   "cell_type": "code",
   "execution_count": 40,
   "id": "ee2b4a43",
   "metadata": {},
   "outputs": [
    {
     "data": {
      "text/plain": [
       "<matplotlib.image.AxesImage at 0x22f3f467040>"
      ]
     },
     "execution_count": 40,
     "metadata": {},
     "output_type": "execute_result"
    },
    {
     "data": {
      "image/png": "[encoded data removed]",
      "text/plain": [
       "<Figure size 432x288 with 1 Axes>"
      ]
     },
     "metadata": {
      "needs_background": "light"
     },
     "output_type": "display_data"
    }
   ],
   "source": [
    "image5 = PIL.Image.open('cupimg 19 August 2022 10h 05m 32s.jpg')\n",
    "area =  (220,80,730,600)\n",
    "crop_img = image5.crop(area)\n",
    "#plt.imshow(image5)\n",
    "plt.imshow(crop_img)"
   ]
  },
  {
   "cell_type": "code",
   "execution_count": null,
   "id": "dead7d1d",
   "metadata": {},
   "outputs": [],
   "source": []
  }
 ],
 "metadata": {
  "kernelspec": {
   "display_name": "Python 3",
   "language": "python",
   "name": "python3"
  },
  "language_info": {
   "codemirror_mode": {
    "name": "ipython",
    "version": 3
   },
   "file_extension": ".py",
   "mimetype": "text/x-python",
   "name": "python",
   "nbconvert_exporter": "python",
   "pygments_lexer": "ipython3",
   "version": "3.8.8"
  }
 },
 "nbformat": 4,
 "nbformat_minor": 5
}
